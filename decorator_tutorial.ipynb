{
 "cells": [
  {
   "cell_type": "markdown",
   "metadata": {},
   "source": [
    "# python のデコレーター構文チュートリアル\n",
    "\n",
    "本文章は筆者がデコレータを学ぶために,  http://www.nasuinfo.or.jp/FreeSpace/kenji/sf/python/virtualMachine/decorator.htm にある文章を `jupyter-notebook` で実行したものになっている.\n",
    "また, 参考にした文書のコードがPython2対応のものとなっており, 若干古いため, Python3で動くように修正した. また所々デコレータを用いずに等価な処理を記述している. \n",
    "\n",
    "<s>別にこの文章は誰かに公開するつもりでもなく, ただself-educationのために記す文章である. </s>"
   ]
  },
  {
   "cell_type": "markdown",
   "metadata": {},
   "source": [
    "@decorate 構文での syntax sugar とは「関数を置き換える記述を簡潔に表す」構文を意味しています。closure を使わない、関数を入れ替えるだけの意味を強調した次のようなコードを書けます。"
   ]
  },
  {
   "cell_type": "code",
   "execution_count": 2,
   "metadata": {},
   "outputs": [
    {
     "name": "stdout",
     "output_type": "stream",
     "text": [
      "Now, here is in test.\n",
      "this is called from deco\n",
      "------------\n",
      "I'm deco.\n"
     ]
    }
   ],
   "source": [
    "def test(func):\n",
    "    print(\"Now, here is in test.\")\n",
    "    print(\"this is called from {}\".format(func.__name__))\n",
    "    return func\n",
    "\n",
    "@test\n",
    "def deco():\n",
    "    print(\"I'm deco.\")\n",
    "\n",
    "print('------------')\n",
    "deco()"
   ]
  },
  {
   "cell_type": "markdown",
   "metadata": {},
   "source": [
    "これはQiitaにあったサンプルコードで, これをみても何もわからなかった."
   ]
  },
  {
   "cell_type": "code",
   "execution_count": 20,
   "metadata": {},
   "outputs": [
    {
     "name": "stdout",
     "output_type": "stream",
     "text": [
      "Now in dcrtF(.): <function testF at 0x10b8e2e18>\n",
      "--------------\n",
      "string returned by dcrtF(.) function\n"
     ]
    },
    {
     "data": {
      "text/plain": [
       "str"
      ]
     },
     "execution_count": 20,
     "metadata": {},
     "output_type": "execute_result"
    }
   ],
   "source": [
    "def dcrtF(objAg):\n",
    "    print(\"Now in dcrtF(.):\",objAg)\n",
    "    return \"string returned by dcrtF(.) function\"\n",
    "\n",
    "@dcrtF\n",
    "def testF( objAg ):\n",
    "    print(\"Now in testF(.):\", objAg)\n",
    "\n",
    "print(\"--------------\")\n",
    "print(testF) # testF is string, not function\n",
    "type(testF)"
   ]
  },
  {
   "cell_type": "markdown",
   "metadata": {},
   "source": [
    "上では `testF` 関数を `@dcrtF` 構文によって修飾しています。`@dcrtF` を読んだ `python` インタプリタは `dcrtF(.)` 関数を呼び出します。`dcrtF(.)` 関数の引数値は `testF` 関数オブジェクトです。そして `dcrtF(.)` 関数の戻り値：`\"e;;string returned by dcrtF(.) function\";` 文字列オブジェクトで `testF` 関数を置き換えます。`@dcrtF` 修飾によって `testF` はラベルは文字列オブジェクトを指すようになってしまいました。関数ではなくなってしまいました。\n",
    "上のように `@dcrtF` 構文で引数が存在しないとき、修飾される関数 `testF` オブジェクトを `dcrtF(.)` 関数の引数として与えます。上の例では `dcrtF(testF)` と呼び出します。もし `dcrtF()` 関数が引数を一つも持たない関数のときは「`TypeError: dcrtF() takes no arguments (1 given)`」と コンパイル・エラーになります。\n",
    "\n",
    "実際に `type(testF)` を実行すると, `testF` が文字列オブジェクトになっていることがわかります. "
   ]
  },
  {
   "cell_type": "markdown",
   "metadata": {},
   "source": [
    "通常の実用的なデコレーター構文では、`dcrtF` 関数は `callable object` を返します。例えば `testF` ラベルの指し示す先を別の関数オブジェクトにすることで、デコレーター構文での修飾の後でも `testF(.)` 呼び出しが可能にしておきます。"
   ]
  },
  {
   "cell_type": "code",
   "execution_count": 9,
   "metadata": {},
   "outputs": [
    {
     "name": "stdout",
     "output_type": "stream",
     "text": [
      "Now in dcrtF(.): <function testF at 0x1039ba048>\n",
      "--------------\n",
      "Now in testF2(.): 5\n"
     ]
    }
   ],
   "source": [
    "def testF2( objAg ):\n",
    "    print(\"Now in testF2(.):\", objAg)\n",
    "\n",
    "def dcrtF(fnAg):\n",
    "    print(\"Now in dcrtF(.):\",fnAg)\n",
    "    return testF2\n",
    "\n",
    "@dcrtF\n",
    "def testF( objAg ):\n",
    "    print (\"Now in testF(.):\", objAg)\n",
    "\n",
    "print(\"--------------\")\n",
    "testF(5)"
   ]
  },
  {
   "cell_type": "markdown",
   "metadata": {},
   "source": [
    "上のコード例では `testF` を `testF2` に入れ替えたので `testF(.)` 呼び出しが `testF2(.)` 呼び出しに代わっています。\n",
    "python のデコレーター構文では、通常は引数として渡された関数に 別の機能を追加した関数を返すことで関数を修飾します。そのために `dcrtF(.)` の引数は、修飾される関数オブジェクトになっているわけです。今度は python の decorator らしく渡される関数オブジェクトに機能を追加した関数オブジェクトを返します。具体的には関数の実行時間を計測する機能で修飾してみます。今までの python decorator の syntax sugar が理解できていれば難しくありません。まだ関数の置き換えにすぎません。 closure 機能を使いません。"
   ]
  },
  {
   "cell_type": "code",
   "execution_count": 10,
   "metadata": {},
   "outputs": [
    {
     "name": "stdout",
     "output_type": "stream",
     "text": [
      "Now in dcrtF(.): <function testF at 0x1039ba620>\n",
      "--------------\n",
      "Now in testF2(.) and start testF(objAg): 5\n",
      "Now in testF(.): 5    sum up: 499500\n",
      "0.00018099999999998673\n"
     ]
    }
   ],
   "source": [
    "fnBufferStt=None\n",
    "def testF2( objAg ):\n",
    "    import time\n",
    "    print(\"Now in testF2(.) and start testF(objAg):\", objAg)\n",
    "    dbStartTimeAt = time.clock()\n",
    "    fnBufferStt(objAg)\n",
    "    print(time.clock() - dbStartTimeAt)\n",
    "\n",
    "def dcrtF(fnAg):\n",
    "    global fnBufferStt\n",
    "    print(\"Now in dcrtF(.):\",fnAg)\n",
    "    fnBufferStt = fnAg\n",
    "    return testF2\n",
    "\n",
    "@dcrtF\n",
    "def testF( objAg ):\n",
    "    print (\"Now in testF(.):\", objAg, \"   sum up:\", sum(range(1000)))\n",
    "\n",
    "print(\"--------------\")\n",
    "testF(5)"
   ]
  },
  {
   "cell_type": "markdown",
   "metadata": {},
   "source": [
    "上のコードでは `@dcrtF` の位置で python interpreter が渡した `testF` 関数オブジェクトを `fnBufferStt` に保存しています。後で使うためです。そして `testF2` と `testF` を入れ替えます。すなわち 最後の行で `testF(5)` と `testF` を実行したつもりでも `testF2(5)` が実行されるようになります。そして `testF2(5)` を実行するときに `fnBufferStt` に保存してあった `testF` 関数を引数値：5で呼び出します。その呼び出しの前後で、プログラムを起動してからの経過時間を `time.clock()` で計って その差分を計算することにより `testF(5)` の実行時間が計測できます。\n",
    "\n",
    "上のコードは以下のコードと等価である. "
   ]
  },
  {
   "cell_type": "code",
   "execution_count": 12,
   "metadata": {},
   "outputs": [
    {
     "name": "stdout",
     "output_type": "stream",
     "text": [
      "Now in dcrtF(.): <function testF at 0x1039a1620>\n",
      "--------------\n",
      "Now in testF2(.) and start testF(objAg): 5\n",
      "Now in testF(.): 5    sum up: 499500\n",
      "0.0002449999999998287\n"
     ]
    }
   ],
   "source": [
    "fnBufferStt=None\n",
    "def testF2( objAg ):\n",
    "    import time\n",
    "    print(\"Now in testF2(.) and start testF(objAg):\", objAg)\n",
    "    dbStartTimeAt = time.clock()\n",
    "    fnBufferStt(objAg)\n",
    "    print(time.clock() - dbStartTimeAt)\n",
    "\n",
    "def dcrtF(fnAg):\n",
    "    global fnBufferStt\n",
    "    print(\"Now in dcrtF(.):\",fnAg)\n",
    "    fnBufferStt = fnAg\n",
    "    return testF2\n",
    "\n",
    "def testF( objAg ):\n",
    "    print (\"Now in testF(.):\", objAg, \"   sum up:\", sum(range(1000)))\n",
    "\n",
    "testF = dcrtF(testF)\n",
    "\n",
    "print(\"--------------\")\n",
    "testF(5)"
   ]
  },
  {
   "cell_type": "markdown",
   "metadata": {},
   "source": [
    "ここでの `@dcrF` による修飾は任意の関数に適用できます。任意の関数の実行時間を計測できます。ただし一つの関数しかデコレートできません。 `fnBufferStt` が一つしかないからです。別の関数をデコレートすると `fnBufferStt` が その別の関数オブジェクトに入れ替わってしまうからです。このような問題を回避できるように `closure` 機能を使います。"
   ]
  },
  {
   "cell_type": "markdown",
   "metadata": {},
   "source": [
    "## デコレーターの closure 機能\n",
    "\n",
    "dcrtF(.) 関数の内側に関数をネストさせることで、上の fnBufferStt グローバル変数では一つの関数しか修飾できない問題を奇麗に回避できます。これが closure 機能を利用したことになっています。"
   ]
  },
  {
   "cell_type": "code",
   "execution_count": 2,
   "metadata": {},
   "outputs": [
    {
     "name": "stdout",
     "output_type": "stream",
     "text": [
      "Now in dcrtF(.): <function sumUp at 0x1090ba730>\n",
      "Now in dcrtF(.): <function sumUpByNum at 0x10a808950>\n",
      "--------------\n",
      "Now innerF(.) 10\n",
      "Now in sumUp(.): 10    sum up: 45\n",
      "0.0004889999999999617\n",
      "--------------\n",
      "Now innerF(.) 10\n",
      "Now in testFF(.): 10    sum up: 45\n",
      "0.0006490000000001217\n",
      "--------------\n",
      "Now innerF(.) 100000\n",
      "Now in sumUp(.): 100000    sum up: 4999950000\n",
      "0.00287000000000015\n",
      "--------------\n",
      "Now innerF(.) 100000\n",
      "Now in testFF(.): 100000    sum up: 4999950000\n",
      "0.013651999999999997\n"
     ]
    }
   ],
   "source": [
    "def dcrtF(fnAg):\n",
    "    print(\"Now in dcrtF(.):\",fnAg)\n",
    "\n",
    "    def innerF(objAg):\n",
    "        import time\n",
    "        print (\"Now innerF(.)\", objAg)\n",
    "        dbStartTimeAt = time.clock()\n",
    "        fnAg(objAg)\n",
    "        print (time.clock() - dbStartTimeAt)\n",
    "\n",
    "    return innerF\n",
    "\n",
    "@dcrtF\n",
    "def sumUp( inAg ):\n",
    "    print (\"Now in sumUp(.):\", inAg, \"   sum up:\", sum(range(inAg)))\n",
    "\n",
    "import numpy as sc\n",
    "@dcrtF\n",
    "def sumUpByNum( inAg ):\n",
    "    #import numarray as sc\n",
    "    print(\"Now in testFF(.):\", inAg, \"   sum up:\", sum(sc.arange(inAg)))\n",
    "\n",
    "print (\"--------------\")\n",
    "sumUp(10)\n",
    "print (\"--------------\")\n",
    "sumUpByNum(10)\n",
    "print (\"--------------\")\n",
    "sumUp(100000)\n",
    "print (\"--------------\")\n",
    "sumUpByNum(100000)"
   ]
  },
  {
   "cell_type": "markdown",
   "metadata": {},
   "source": [
    "### callable オブジェクトによる closure オブジェクトの代用\n",
    "\n",
    "ここまで読んで、「 closure ではなく callable な class instance でも同じことができるじゃないか」と思った方は鋭い感性をお持ちです。そのとおりです。「コード例 4」の関数実行時間の計測機能のデコレーションは、下のクラス・インスタンスで作った callable object を使ったデコレーションでも実現できます。\n",
    "\n",
    "callableなオブジェクトが返って来ればいいなら, クラスでも同じことができる. "
   ]
  },
  {
   "cell_type": "code",
   "execution_count": 12,
   "metadata": {},
   "outputs": [
    {
     "name": "stdout",
     "output_type": "stream",
     "text": [
      "Now in dcrtF(.): <function sumUp at 0x10b8c3840>\n",
      "Now in dcrtF(.): <function sumUpByNum at 0x10b8bcd08>\n",
      "--------------\n",
      "Now ClMesureTime.__call__(.) <function sumUp at 0x10b8c3840>\n",
      "Now in sumUp(.): 10    sum up: 45\n",
      "0.00015900000000002024\n",
      "--------------\n",
      "Now ClMesureTime.__call__(.) <function sumUpByNum at 0x10b8bcd08>\n",
      "Now in testFF(.): 10    sum up: 45\n",
      "0.00025000000000030553\n",
      "--------------\n",
      "Now ClMesureTime.__call__(.) <function sumUp at 0x10b8c3840>\n",
      "Now in sumUp(.): 100000    sum up: 4999950000\n",
      "0.0032529999999999504\n",
      "--------------\n",
      "Now ClMesureTime.__call__(.) <function sumUpByNum at 0x10b8bcd08>\n",
      "Now in testFF(.): 100000    sum up: 4999950000\n",
      "0.011570999999999998\n"
     ]
    }
   ],
   "source": [
    "class ClMesureTime:\n",
    "    def __init__(self, fnObjAg):\n",
    "        self.m_fnObj = fnObjAg\n",
    "    \n",
    "    def __call__(self, objAg):\n",
    "        import time\n",
    "        print(\"Now ClMesureTime.__call__(.)\", self.m_fnObj)\n",
    "        dbStartTimeAt = time.clock()\n",
    "        self.m_fnObj(objAg)\n",
    "        print(time.clock() - dbStartTimeAt)\n",
    "        \n",
    "\n",
    "def dcrtF(fnAg):\n",
    "    print (\"Now in dcrtF(.):\",fnAg)\n",
    "    return ClMesureTime(fnAg)\n",
    "\n",
    "@dcrtF\n",
    "def sumUp( inAg ):\n",
    "    print (\"Now in sumUp(.):\", inAg, \"   sum up:\", sum(range(inAg)))\n",
    "\n",
    "import numpy as sc\n",
    "@dcrtF\n",
    "def sumUpByNum( inAg ):\n",
    "    #import numarray as sc\n",
    "    print (\"Now in testFF(.):\", inAg, \"   sum up:\", sum(sc.arange(inAg)))\n",
    "\n",
    "print(\"--------------\")\n",
    "sumUp(10)\n",
    "print(\"--------------\")\n",
    "sumUpByNum(10)\n",
    "print(\"--------------\")\n",
    "sumUp(100000)\n",
    "print(\"--------------\")\n",
    "sumUpByNum(100000)"
   ]
  },
  {
   "cell_type": "markdown",
   "metadata": {},
   "source": [
    "この場合も, 上と等価なコードは以下のようになる. "
   ]
  },
  {
   "cell_type": "code",
   "execution_count": 13,
   "metadata": {},
   "outputs": [
    {
     "name": "stdout",
     "output_type": "stream",
     "text": [
      "Now in dcrtF(.): <function sumUp at 0x10a808950>\n",
      "Now in dcrtF(.): <function sumUpByNum at 0x10b8c31e0>\n",
      "--------------\n",
      "Now ClMesureTime.__call__(.) <function sumUp at 0x10a808950>\n",
      "Now in sumUp(.): 10    sum up: 45\n",
      "0.0003959999999998409\n",
      "--------------\n",
      "Now ClMesureTime.__call__(.) <function sumUpByNum at 0x10b8c31e0>\n",
      "Now in testFF(.): 10    sum up: 45\n",
      "0.000568000000000346\n",
      "--------------\n",
      "Now ClMesureTime.__call__(.) <function sumUp at 0x10a808950>\n",
      "Now in sumUp(.): 100000    sum up: 4999950000\n",
      "0.00293499999999991\n",
      "--------------\n",
      "Now ClMesureTime.__call__(.) <function sumUpByNum at 0x10b8c31e0>\n",
      "Now in testFF(.): 100000    sum up: 4999950000\n",
      "0.011724000000000068\n"
     ]
    }
   ],
   "source": [
    "class ClMesureTime:\n",
    "    def __init__(self, fnObjAg):\n",
    "        self.m_fnObj = fnObjAg\n",
    "    \n",
    "    def __call__(self, objAg):\n",
    "        import time\n",
    "        print(\"Now ClMesureTime.__call__(.)\", self.m_fnObj)\n",
    "        dbStartTimeAt = time.clock()\n",
    "        self.m_fnObj(objAg)\n",
    "        print(time.clock() - dbStartTimeAt)\n",
    "        \n",
    "\n",
    "def dcrtF(fnAg):\n",
    "    print (\"Now in dcrtF(.):\",fnAg)\n",
    "    return ClMesureTime(fnAg)\n",
    "\n",
    "\n",
    "def sumUp( inAg ):\n",
    "    print (\"Now in sumUp(.):\", inAg, \"   sum up:\", sum(range(inAg)))\n",
    "sumUp = dcrtF(sumUp)\n",
    "    \n",
    "import numpy as sc\n",
    "\n",
    "def sumUpByNum( inAg ):\n",
    "    #import numarray as sc\n",
    "    print (\"Now in testFF(.):\", inAg, \"   sum up:\", sum(sc.arange(inAg)))\n",
    "sumUpByNum = dcrtF(sumUpByNum)\n",
    "\n",
    "print(\"--------------\")\n",
    "sumUp(10)\n",
    "print(\"--------------\")\n",
    "sumUpByNum(10)\n",
    "print(\"--------------\")\n",
    "sumUp(100000)\n",
    "print(\"--------------\")\n",
    "sumUpByNum(100000)"
   ]
  },
  {
   "cell_type": "markdown",
   "metadata": {},
   "source": [
    "ただし別の [dis/inspect モジュールを使った Python のハッキング](http://www.nasuinfo.or.jp/FreeSpace/kenji/sf/python/virtualMachine/PyVM.htm)で詳しく説明するように closure のほうが単純な python virtual machine コードになります。効率的なコードになります。callable なクラス・インスタンスを設けるには class の生成とクラスに付属する `dict` 変数を生成せねばなりません。closure ならば `innerF` 関数オブジェクトに `inAg` 変数を追加するだけで済みます。"
   ]
  },
  {
   "cell_type": "markdown",
   "metadata": {},
   "source": [
    "### @decorate 構文での引数\n",
    "\n",
    "@decorate 構文には引数を与えられます。より汎用的な修飾が可能です。ただし引数を与えられたときは、`decorate(引数)` の戻り値が callable であることを前提に、一つの `@decorate(.)` 構文に対し、二回の関数呼び出しが発生します。 一回目の `decorate(引数)` が戻した callable オブジェクトに対して、修飾される関数を引数として渡して二回目の呼び出しを行います。二回目の関数呼び出しの戻り値で修飾される関数を置き換えます。\n",
    "\n",
    "以下の例では, `@dtrtF(strComment)` とコメント文字列を引き渡せるようにしたテスト・コードを使います。"
   ]
  },
  {
   "cell_type": "code",
   "execution_count": 22,
   "metadata": {},
   "outputs": [
    {
     "name": "stdout",
     "output_type": "stream",
     "text": [
      "Now in dcrtF(.): sumUp function\n",
      "Now ClMesureTime.__call__(.) <function sumUp at 0x10b8d7a60>\n",
      "Now in dcrtF(.): sumUpByNum function\n",
      "Now ClMesureTime.__call__(.) <function sumUpByNum at 0x10b8d7158>\n",
      "--------------\n",
      "Now __decorate(.):sumUp function:  10\n",
      "Now in sumUp(.): 10    sum up: 45\n",
      "0.00040000000000040004\n",
      "--------------\n",
      "Now __decorate(.):sumUpByNum function:  10\n",
      "Now in sumUpByNum(.): 10    sum up: 45\n",
      "0.0008619999999996963\n",
      "--------------\n",
      "Now __decorate(.):sumUp function:  100000\n",
      "Now in sumUp(.): 100000    sum up: 4999950000\n",
      "0.0025800000000000267\n",
      "--------------\n",
      "Now __decorate(.):sumUpByNum function:  100000\n",
      "Now in sumUpByNum(.): 100000    sum up: 4999950000\n",
      "0.010448000000000235\n"
     ]
    }
   ],
   "source": [
    "# decoratorを使って書く\n",
    "class ClMesureTime:\n",
    "    def __init__(self, strCommentAg):\n",
    "        self.m_strComment = strCommentAg\n",
    "    \n",
    "    def __call__(self, fnObjAg):\n",
    "        print(\"Now ClMesureTime.__call__(.)\", fnObjAg)\n",
    "        self.m_fnObj = fnObjAg\n",
    "        return self.__decorate\n",
    "\n",
    "    def __decorate(self, objAg):\n",
    "        import time\n",
    "        print(\"Now __decorate(.):\"+self.m_strComment+\": \", objAg)\n",
    "        dbStartTimeAt = time.clock()\n",
    "        self.m_fnObj(objAg)\n",
    "        print(time.clock() - dbStartTimeAt)\n",
    "\n",
    "\n",
    "def dcrtF(strCommentAg):\n",
    "    print(\"Now in dcrtF(.):\",strCommentAg)\n",
    "    return ClMesureTime(strCommentAg)\n",
    "\n",
    "\n",
    "@dcrtF(\"sumUp function\")\n",
    "def sumUp( inAg ):\n",
    "    print(\"Now in sumUp(.):\", inAg, \"   sum up:\", sum(range(inAg)))\n",
    "\n",
    "import numpy as sc\n",
    "@dcrtF(\"sumUpByNum function\")\n",
    "def sumUpByNum( inAg ):\n",
    "    #import numarray as sc\n",
    "    print(\"Now in sumUpByNum(.):\", inAg, \"   sum up:\", sum(sc.arange(inAg)))\n",
    "\n",
    "print(\"--------------\")\n",
    "sumUp(10)\n",
    "print(\"--------------\")\n",
    "sumUpByNum(10)\n",
    "print(\"--------------\")\n",
    "sumUp(100000)\n",
    "print(\"--------------\")\n",
    "sumUpByNum(100000)"
   ]
  },
  {
   "cell_type": "markdown",
   "metadata": {},
   "source": [
    "`dcrtF(.)` 関数が の callble class instance を返しています。`@dcrtF(strCommentAg)` によるデコレーションで 一回目の `dcrtF(strCommentAg)` 関数の呼び出しに続いて、`dctrF(.)` 関数の戻り値 `ClMesureTime callable instance` による `sumUp`, `sumUpByNum` 関数オブジェクトを引数とする二回目の呼び出しを行っていることが解るはずです。二回目の呼び出しでは、関数の実行時間を計測するメンバー関数を返すので、それで `sumUp`, `sumUpByNum` 関数が置き換えられます。\n",
    "\n",
    "これは以下に示すコードと等価です. "
   ]
  },
  {
   "cell_type": "code",
   "execution_count": 23,
   "metadata": {},
   "outputs": [
    {
     "name": "stdout",
     "output_type": "stream",
     "text": [
      "Now in dcrtF(.): sumUp function\n",
      "Now ClMesureTime.__call__(.) <function sumUp at 0x10a808950>\n",
      "Now in dcrtF(.): sumUpByNum function\n",
      "Now ClMesureTime.__call__(.) <function sumUpByNum at 0x10b8e2158>\n",
      "--------------\n",
      "Now __decorate(.):sumUp function:  10\n",
      "Now in sumUp(.): 10    sum up: 45\n",
      "0.0004679999999996909\n",
      "--------------\n",
      "Now __decorate(.):sumUpByNum function:  10\n",
      "Now in sumUpByNum(.): 10    sum up: 45\n",
      "0.000560000000000116\n",
      "--------------\n",
      "Now __decorate(.):sumUp function:  100000\n",
      "Now in sumUp(.): 100000    sum up: 4999950000\n",
      "0.002183000000000046\n",
      "--------------\n",
      "Now __decorate(.):sumUpByNum function:  100000\n",
      "Now in sumUpByNum(.): 100000    sum up: 4999950000\n",
      "0.010070999999999941\n"
     ]
    }
   ],
   "source": [
    "# decoratorを使わないとこうなる\n",
    "class ClMesureTime:\n",
    "    def __init__(self, strCommentAg):\n",
    "        self.m_strComment = strCommentAg\n",
    "    \n",
    "    def __call__(self, fnObjAg):\n",
    "        print(\"Now ClMesureTime.__call__(.)\", fnObjAg)\n",
    "        self.m_fnObj = fnObjAg\n",
    "        return self.__decorate\n",
    "\n",
    "    def __decorate(self, objAg):\n",
    "        import time\n",
    "        print(\"Now __decorate(.):\"+self.m_strComment+\": \", objAg)\n",
    "        dbStartTimeAt = time.clock()\n",
    "        self.m_fnObj(objAg)\n",
    "        print(time.clock() - dbStartTimeAt)\n",
    "\n",
    "\n",
    "def dcrtF(strCommentAg):\n",
    "    print(\"Now in dcrtF(.):\",strCommentAg)\n",
    "    return ClMesureTime(strCommentAg)\n",
    "\n",
    "\n",
    "\n",
    "def sumUp( inAg ):\n",
    "    print(\"Now in sumUp(.):\", inAg, \"   sum up:\", sum(range(inAg)))\n",
    "tmpobj_0 = dcrtF(\"sumUp function\")\n",
    "sumUp = tmpobj_0(sumUp)\n",
    "    \n",
    "import numpy as sc\n",
    "\n",
    "def sumUpByNum( inAg ):\n",
    "    #import numarray as sc\n",
    "    print(\"Now in sumUpByNum(.):\", inAg, \"   sum up:\", sum(sc.arange(inAg)))\n",
    "tmpobj_1 = dcrtF(\"sumUpByNum function\")\n",
    "sumUpByNum = tmpobj_1(sumUpByNum)\n",
    "\n",
    "print(\"--------------\")\n",
    "sumUp(10)\n",
    "print(\"--------------\")\n",
    "sumUpByNum(10)\n",
    "print(\"--------------\")\n",
    "sumUp(100000)\n",
    "print(\"--------------\")\n",
    "sumUpByNum(100000)"
   ]
  },
  {
   "cell_type": "markdown",
   "metadata": {},
   "source": [
    "上記の処理を, 今度はクラスを用いずに, 関数で書くと以下のようになる. 3重のネストになっているため読みにくいかもしれないが, 1行ずつコードを追っていけば,  同じことをしているのがわかる. "
   ]
  },
  {
   "cell_type": "code",
   "execution_count": 16,
   "metadata": {},
   "outputs": [
    {
     "name": "stdout",
     "output_type": "stream",
     "text": [
      "Now in dcrtF(.): sumUp function\n",
      "Now in dcrtF(.): sumUpByNum function\n",
      "--------------\n",
      "Now innerF(.):sumUp function:  10\n",
      "Now in sumUp(.): 10    sum up: 45\n",
      "0.0007629999999996251\n",
      "--------------\n",
      "Now innerF(.):sumUpByNum function:  10\n",
      "Now in testFF(.): 10    sum up: 45\n",
      "0.0005589999999999762\n",
      "--------------\n",
      "Now innerF(.):sumUp function:  100000\n",
      "Now in sumUp(.): 100000    sum up: 4999950000\n",
      "0.0036969999999998393\n",
      "--------------\n",
      "Now innerF(.):sumUpByNum function:  100000\n",
      "Now in testFF(.): 100000    sum up: 4999950000\n",
      "0.012243999999999922\n"
     ]
    }
   ],
   "source": [
    "def dcrtF(strCommentAg):\n",
    "    print(\"Now in dcrtF(.):\",strCommentAg)\n",
    "\n",
    "    def innerF(fnObjAg):\n",
    "        def innerInnerF(objAg):\n",
    "            import time\n",
    "            print(\"Now innerF(.):\"+strCommentAg+\": \", objAg)\n",
    "            dbStartTimeAt = time.clock()\n",
    "            fnObjAg(objAg)\n",
    "            print(time.clock() - dbStartTimeAt)\n",
    "\n",
    "        return innerInnerF\n",
    "\n",
    "    return innerF\n",
    "\n",
    "@dcrtF(\"sumUp function\")\n",
    "def sumUp( inAg ):\n",
    "    print(\"Now in sumUp(.):\", inAg, \"   sum up:\", sum(range(inAg)))\n",
    "\n",
    "import numpy as sc\n",
    "@dcrtF(\"sumUpByNum function\")\n",
    "def sumUpByNum( inAg ):\n",
    "    print(\"Now in testFF(.):\", inAg, \"   sum up:\", sum(sc.arange(inAg)))\n",
    "\n",
    "print(\"--------------\")\n",
    "sumUp(10)\n",
    "print(\"--------------\")\n",
    "sumUpByNum(10)\n",
    "print(\"--------------\")\n",
    "sumUp(100000)\n",
    "print(\"--------------\")\n",
    "sumUpByNum(100000)"
   ]
  },
  {
   "cell_type": "markdown",
   "metadata": {},
   "source": [
    "上の例では, `@dcrtF(strCommentAg)` の `strCommentAg` 引数を `self.m_strComment` などに保存する手間をかけずに、内側の関数の外側関数の変数参照で `innerInnerF` closure に保存されています。"
   ]
  },
  {
   "cell_type": "markdown",
   "metadata": {},
   "source": [
    "より実用的なデコレータの例として, 以下のようなものがある."
   ]
  },
  {
   "cell_type": "code",
   "execution_count": 18,
   "metadata": {},
   "outputs": [
    {
     "name": "stdout",
     "output_type": "stream",
     "text": [
      "------------\n",
      "3.5205204160748735\n",
      "------------\n"
     ]
    },
    {
     "ename": "AssertionError",
     "evalue": "Value 'abc' dose not match <class 'float'> at 2",
     "output_type": "error",
     "traceback": [
      "\u001b[0;31m---------------------------------------------------------------------------\u001b[0m",
      "\u001b[0;31mAssertionError\u001b[0m                            Traceback (most recent call last)",
      "\u001b[0;32m<ipython-input-18-85528b38c9db>\u001b[0m in \u001b[0;36m<module>\u001b[0;34m()\u001b[0m\n\u001b[1;32m     26\u001b[0m \u001b[0mprint\u001b[0m\u001b[0;34m(\u001b[0m\u001b[0mcalcDistance\u001b[0m\u001b[0;34m(\u001b[0m\u001b[0;36m3.14\u001b[0m\u001b[0;34m,\u001b[0m \u001b[0;36m1.592\u001b[0m\u001b[0;34m)\u001b[0m\u001b[0;34m)\u001b[0m\u001b[0;34m\u001b[0m\u001b[0m\n\u001b[1;32m     27\u001b[0m \u001b[0mprint\u001b[0m\u001b[0;34m(\u001b[0m\u001b[0;34m\"------------\"\u001b[0m\u001b[0;34m)\u001b[0m\u001b[0;34m\u001b[0m\u001b[0m\n\u001b[0;32m---> 28\u001b[0;31m \u001b[0mprint\u001b[0m\u001b[0;34m(\u001b[0m\u001b[0mcalcDistance\u001b[0m\u001b[0;34m(\u001b[0m\u001b[0;36m3.14\u001b[0m\u001b[0;34m,\u001b[0m \u001b[0;34m\"abc\"\u001b[0m\u001b[0;34m)\u001b[0m\u001b[0;34m)\u001b[0m\u001b[0;34m\u001b[0m\u001b[0m\n\u001b[0m",
      "\u001b[0;32m<ipython-input-18-85528b38c9db>\u001b[0m in \u001b[0;36mwrapper\u001b[0;34m(*args, **kwargs)\u001b[0m\n\u001b[1;32m     10\u001b[0m             \u001b[0mpos\u001b[0m \u001b[0;34m=\u001b[0m \u001b[0;36m1\u001b[0m\u001b[0;34m\u001b[0m\u001b[0m\n\u001b[1;32m     11\u001b[0m             \u001b[0;32mfor\u001b[0m \u001b[0;34m(\u001b[0m\u001b[0marg\u001b[0m\u001b[0;34m,\u001b[0m \u001b[0margType\u001b[0m\u001b[0;34m)\u001b[0m \u001b[0;32min\u001b[0m \u001b[0mzip\u001b[0m\u001b[0;34m(\u001b[0m\u001b[0margs\u001b[0m\u001b[0;34m,\u001b[0m \u001b[0margTypes\u001b[0m\u001b[0;34m)\u001b[0m\u001b[0;34m:\u001b[0m\u001b[0;34m\u001b[0m\u001b[0m\n\u001b[0;32m---> 12\u001b[0;31m                 \u001b[0;32massert\u001b[0m \u001b[0misinstance\u001b[0m\u001b[0;34m(\u001b[0m\u001b[0marg\u001b[0m\u001b[0;34m,\u001b[0m \u001b[0margType\u001b[0m\u001b[0;34m)\u001b[0m\u001b[0;34m,\u001b[0m                         \u001b[0;34m\"Value %r dose not match %s at %d\"\u001b[0m \u001b[0;34m%\u001b[0m \u001b[0;34m(\u001b[0m\u001b[0marg\u001b[0m\u001b[0;34m,\u001b[0m \u001b[0margType\u001b[0m\u001b[0;34m,\u001b[0m \u001b[0mpos\u001b[0m\u001b[0;34m)\u001b[0m\u001b[0;34m\u001b[0m\u001b[0m\n\u001b[0m\u001b[1;32m     13\u001b[0m                 \u001b[0mpos\u001b[0m \u001b[0;34m+=\u001b[0m \u001b[0;36m1\u001b[0m\u001b[0;34m\u001b[0m\u001b[0m\n\u001b[1;32m     14\u001b[0m             \u001b[0;32mreturn\u001b[0m \u001b[0mfunc\u001b[0m\u001b[0;34m(\u001b[0m\u001b[0;34m*\u001b[0m\u001b[0margs\u001b[0m\u001b[0;34m,\u001b[0m \u001b[0;34m**\u001b[0m\u001b[0mkwargs\u001b[0m\u001b[0;34m)\u001b[0m\u001b[0;34m\u001b[0m\u001b[0m\n",
      "\u001b[0;31mAssertionError\u001b[0m: Value 'abc' dose not match <class 'float'> at 2"
     ]
    }
   ],
   "source": [
    "import math\n",
    "\n",
    "#def declareArgs():\n",
    "def declareArgs(*argTypes):\n",
    "\n",
    "    def checkArguments(func):   # @declareArgs() のときに働く\n",
    "        assert func.__code__.co_argcount == len(argTypes)\n",
    "\n",
    "        def wrapper(*args, **kwargs):\n",
    "            pos = 1\n",
    "            for (arg, argType) in zip(args, argTypes):\n",
    "                assert isinstance(arg, argType), \\\n",
    "                        \"Value %r dose not match %s at %d\" % (arg, argType, pos)\n",
    "                pos += 1\n",
    "            return func(*args, **kwargs)\n",
    "        #wrapper.func_name = func.func_name \n",
    "        return wrapper\n",
    "    #import dis\n",
    "    #dis.dis(checkArguments)\n",
    "    return checkArguments   # checkArgments 関数オブジェクトを返している\n",
    "\n",
    "@declareArgs(float, float)\n",
    "def calcDistance(x, y):\n",
    "    return math.sqrt(x * x + y * y)\n",
    "\n",
    "print(\"------------\")\n",
    "print(calcDistance(3.14, 1.592))\n",
    "print(\"------------\")\n",
    "print(calcDistance(3.14, \"abc\"))"
   ]
  },
  {
   "cell_type": "markdown",
   "metadata": {},
   "source": [
    "`@declareArgs(float, float)` により、`calcDistance(.)` 関数の二つの引数のどちらも `float` タイプであることを確認するように修飾しました。ですから `calcDistance(3.14, 1.592)` を呼び出したたときは、正常に計算できました。でも `calcDistance(3.14, \"abc\")` を呼び出したときは `AssertionError` が発行されました. "
   ]
  },
  {
   "cell_type": "code",
   "execution_count": null,
   "metadata": {
    "collapsed": true
   },
   "outputs": [],
   "source": []
  }
 ],
 "metadata": {
  "kernelspec": {
   "display_name": "Python 3",
   "language": "python",
   "name": "python3"
  },
  "language_info": {
   "codemirror_mode": {
    "name": "ipython",
    "version": 3
   },
   "file_extension": ".py",
   "mimetype": "text/x-python",
   "name": "python",
   "nbconvert_exporter": "python",
   "pygments_lexer": "ipython3",
   "version": "3.6.3"
  }
 },
 "nbformat": 4,
 "nbformat_minor": 2
}
